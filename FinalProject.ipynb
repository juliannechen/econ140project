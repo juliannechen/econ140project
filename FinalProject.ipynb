{
 "cells": [
  {
   "cell_type": "code",
   "execution_count": 1,
   "id": "6a287123",
   "metadata": {},
   "outputs": [
    {
     "data": {
      "text/html": [
       "<table class=\"dataframe\">\n",
       "<caption>A data.frame: 6 × 120</caption>\n",
       "<thead>\n",
       "\t<tr><th></th><th scope=col>HBSC</th><th scope=col>seqno_int</th><th scope=col>cluster</th><th scope=col>countryno</th><th scope=col>region</th><th scope=col>id1</th><th scope=col>id2</th><th scope=col>id3</th><th scope=col>id4</th><th scope=col>weight</th><th scope=col>⋯</th><th scope=col>talkstepmo</th><th scope=col>famhelp</th><th scope=col>famsup</th><th scope=col>famtalk</th><th scope=col>famdec</th><th scope=col>MBMI</th><th scope=col>IRFAS</th><th scope=col>IRRELFAS_LMH</th><th scope=col>IOTF4</th><th scope=col>oweight_who</th></tr>\n",
       "\t<tr><th></th><th scope=col>&lt;int&gt;</th><th scope=col>&lt;int&gt;</th><th scope=col>&lt;int&gt;</th><th scope=col>&lt;int&gt;</th><th scope=col>&lt;chr&gt;</th><th scope=col>&lt;int&gt;</th><th scope=col>&lt;int&gt;</th><th scope=col>&lt;dbl&gt;</th><th scope=col>&lt;int&gt;</th><th scope=col>&lt;dbl&gt;</th><th scope=col>⋯</th><th scope=col>&lt;dbl&gt;</th><th scope=col>&lt;dbl&gt;</th><th scope=col>&lt;dbl&gt;</th><th scope=col>&lt;dbl&gt;</th><th scope=col>&lt;dbl&gt;</th><th scope=col>&lt;dbl&gt;</th><th scope=col>&lt;dbl&gt;</th><th scope=col>&lt;dbl&gt;</th><th scope=col>&lt;dbl&gt;</th><th scope=col>&lt;dbl&gt;</th></tr>\n",
       "</thead>\n",
       "<tbody>\n",
       "\t<tr><th scope=row>1</th><td>2018</td><td>101054</td><td>100001</td><td>8000</td><td>AL</td><td>1</td><td>1</td><td>1</td><td>937</td><td>1</td><td>⋯</td><td>  5</td><td>7</td><td>7</td><td>7</td><td>7</td><td>18.06617</td><td> 8</td><td>2</td><td>  2</td><td>  0</td></tr>\n",
       "\t<tr><th scope=row>2</th><td>2018</td><td>103215</td><td>100001</td><td>8000</td><td>AL</td><td>1</td><td>1</td><td>1</td><td>941</td><td>1</td><td>⋯</td><td>Inf</td><td>7</td><td>7</td><td>7</td><td>7</td><td>     Inf</td><td> 7</td><td>2</td><td>Inf</td><td>Inf</td></tr>\n",
       "\t<tr><th scope=row>3</th><td>2018</td><td>103524</td><td>100001</td><td>8000</td><td>AL</td><td>1</td><td>1</td><td>1</td><td>934</td><td>1</td><td>⋯</td><td>  5</td><td>7</td><td>7</td><td>7</td><td>7</td><td>14.87210</td><td>11</td><td>3</td><td>  1</td><td>  0</td></tr>\n",
       "\t<tr><th scope=row>4</th><td>2018</td><td>101053</td><td>100002</td><td>8000</td><td>AL</td><td>1</td><td>1</td><td>2</td><td>936</td><td>1</td><td>⋯</td><td>Inf</td><td>7</td><td>7</td><td>7</td><td>7</td><td>20.00000</td><td>12</td><td>3</td><td>  2</td><td>  1</td></tr>\n",
       "\t<tr><th scope=row>5</th><td>2018</td><td>100812</td><td>100002</td><td>8000</td><td>AL</td><td>1</td><td>1</td><td>2</td><td>947</td><td>1</td><td>⋯</td><td>Inf</td><td>7</td><td>7</td><td>7</td><td>7</td><td>21.41094</td><td> 8</td><td>2</td><td>  3</td><td>  1</td></tr>\n",
       "\t<tr><th scope=row>6</th><td>2018</td><td>100811</td><td>100002</td><td>8000</td><td>AL</td><td>1</td><td>1</td><td>2</td><td>940</td><td>1</td><td>⋯</td><td>Inf</td><td>7</td><td>7</td><td>7</td><td>7</td><td>19.28938</td><td> 7</td><td>2</td><td>  2</td><td>  0</td></tr>\n",
       "</tbody>\n",
       "</table>\n"
      ],
      "text/latex": [
       "A data.frame: 6 × 120\n",
       "\\begin{tabular}{r|lllllllllllllllllllll}\n",
       "  & HBSC & seqno\\_int & cluster & countryno & region & id1 & id2 & id3 & id4 & weight & ⋯ & talkstepmo & famhelp & famsup & famtalk & famdec & MBMI & IRFAS & IRRELFAS\\_LMH & IOTF4 & oweight\\_who\\\\\n",
       "  & <int> & <int> & <int> & <int> & <chr> & <int> & <int> & <dbl> & <int> & <dbl> & ⋯ & <dbl> & <dbl> & <dbl> & <dbl> & <dbl> & <dbl> & <dbl> & <dbl> & <dbl> & <dbl>\\\\\n",
       "\\hline\n",
       "\t1 & 2018 & 101054 & 100001 & 8000 & AL & 1 & 1 & 1 & 937 & 1 & ⋯ &   5 & 7 & 7 & 7 & 7 & 18.06617 &  8 & 2 &   2 &   0\\\\\n",
       "\t2 & 2018 & 103215 & 100001 & 8000 & AL & 1 & 1 & 1 & 941 & 1 & ⋯ & Inf & 7 & 7 & 7 & 7 &      Inf &  7 & 2 & Inf & Inf\\\\\n",
       "\t3 & 2018 & 103524 & 100001 & 8000 & AL & 1 & 1 & 1 & 934 & 1 & ⋯ &   5 & 7 & 7 & 7 & 7 & 14.87210 & 11 & 3 &   1 &   0\\\\\n",
       "\t4 & 2018 & 101053 & 100002 & 8000 & AL & 1 & 1 & 2 & 936 & 1 & ⋯ & Inf & 7 & 7 & 7 & 7 & 20.00000 & 12 & 3 &   2 &   1\\\\\n",
       "\t5 & 2018 & 100812 & 100002 & 8000 & AL & 1 & 1 & 2 & 947 & 1 & ⋯ & Inf & 7 & 7 & 7 & 7 & 21.41094 &  8 & 2 &   3 &   1\\\\\n",
       "\t6 & 2018 & 100811 & 100002 & 8000 & AL & 1 & 1 & 2 & 940 & 1 & ⋯ & Inf & 7 & 7 & 7 & 7 & 19.28938 &  7 & 2 &   2 &   0\\\\\n",
       "\\end{tabular}\n"
      ],
      "text/markdown": [
       "\n",
       "A data.frame: 6 × 120\n",
       "\n",
       "| <!--/--> | HBSC &lt;int&gt; | seqno_int &lt;int&gt; | cluster &lt;int&gt; | countryno &lt;int&gt; | region &lt;chr&gt; | id1 &lt;int&gt; | id2 &lt;int&gt; | id3 &lt;dbl&gt; | id4 &lt;int&gt; | weight &lt;dbl&gt; | ⋯ ⋯ | talkstepmo &lt;dbl&gt; | famhelp &lt;dbl&gt; | famsup &lt;dbl&gt; | famtalk &lt;dbl&gt; | famdec &lt;dbl&gt; | MBMI &lt;dbl&gt; | IRFAS &lt;dbl&gt; | IRRELFAS_LMH &lt;dbl&gt; | IOTF4 &lt;dbl&gt; | oweight_who &lt;dbl&gt; |\n",
       "|---|---|---|---|---|---|---|---|---|---|---|---|---|---|---|---|---|---|---|---|---|---|\n",
       "| 1 | 2018 | 101054 | 100001 | 8000 | AL | 1 | 1 | 1 | 937 | 1 | ⋯ |   5 | 7 | 7 | 7 | 7 | 18.06617 |  8 | 2 |   2 |   0 |\n",
       "| 2 | 2018 | 103215 | 100001 | 8000 | AL | 1 | 1 | 1 | 941 | 1 | ⋯ | Inf | 7 | 7 | 7 | 7 |      Inf |  7 | 2 | Inf | Inf |\n",
       "| 3 | 2018 | 103524 | 100001 | 8000 | AL | 1 | 1 | 1 | 934 | 1 | ⋯ |   5 | 7 | 7 | 7 | 7 | 14.87210 | 11 | 3 |   1 |   0 |\n",
       "| 4 | 2018 | 101053 | 100002 | 8000 | AL | 1 | 1 | 2 | 936 | 1 | ⋯ | Inf | 7 | 7 | 7 | 7 | 20.00000 | 12 | 3 |   2 |   1 |\n",
       "| 5 | 2018 | 100812 | 100002 | 8000 | AL | 1 | 1 | 2 | 947 | 1 | ⋯ | Inf | 7 | 7 | 7 | 7 | 21.41094 |  8 | 2 |   3 |   1 |\n",
       "| 6 | 2018 | 100811 | 100002 | 8000 | AL | 1 | 1 | 2 | 940 | 1 | ⋯ | Inf | 7 | 7 | 7 | 7 | 19.28938 |  7 | 2 |   2 |   0 |\n",
       "\n"
      ],
      "text/plain": [
       "  HBSC seqno_int cluster countryno region id1 id2 id3 id4 weight ⋯ talkstepmo\n",
       "1 2018 101054    100001  8000      AL     1   1   1   937 1      ⋯   5       \n",
       "2 2018 103215    100001  8000      AL     1   1   1   941 1      ⋯ Inf       \n",
       "3 2018 103524    100001  8000      AL     1   1   1   934 1      ⋯   5       \n",
       "4 2018 101053    100002  8000      AL     1   1   2   936 1      ⋯ Inf       \n",
       "5 2018 100812    100002  8000      AL     1   1   2   947 1      ⋯ Inf       \n",
       "6 2018 100811    100002  8000      AL     1   1   2   940 1      ⋯ Inf       \n",
       "  famhelp famsup famtalk famdec MBMI     IRFAS IRRELFAS_LMH IOTF4 oweight_who\n",
       "1 7       7      7       7      18.06617  8    2              2     0        \n",
       "2 7       7      7       7           Inf  7    2            Inf   Inf        \n",
       "3 7       7      7       7      14.87210 11    3              1     0        \n",
       "4 7       7      7       7      20.00000 12    3              2     1        \n",
       "5 7       7      7       7      21.41094  8    2              3     1        \n",
       "6 7       7      7       7      19.28938  7    2              2     0        "
      ]
     },
     "metadata": {},
     "output_type": "display_data"
    }
   ],
   "source": [
    "data <- read.csv(\"HBSC2018OAed1.csv\")\n",
    "head(data)"
   ]
  },
  {
   "cell_type": "code",
   "execution_count": 2,
   "id": "c52df0ca",
   "metadata": {},
   "outputs": [
    {
     "data": {
      "text/html": [
       "<table class=\"dataframe\">\n",
       "<caption>A data.frame: 6 × 11</caption>\n",
       "<thead>\n",
       "\t<tr><th></th><th scope=col>lifesat</th><th scope=col>countryno</th><th scope=col>fasholidays</th><th scope=col>health</th><th scope=col>age</th><th scope=col>sex</th><th scope=col>motherhome1</th><th scope=col>fatherhome1</th><th scope=col>famaffluence</th><th scope=col>friendhelp</th><th scope=col>schoolpressure</th></tr>\n",
       "\t<tr><th></th><th scope=col>&lt;dbl&gt;</th><th scope=col>&lt;int&gt;</th><th scope=col>&lt;dbl&gt;</th><th scope=col>&lt;dbl&gt;</th><th scope=col>&lt;dbl&gt;</th><th scope=col>&lt;int&gt;</th><th scope=col>&lt;dbl&gt;</th><th scope=col>&lt;dbl&gt;</th><th scope=col>&lt;dbl&gt;</th><th scope=col>&lt;dbl&gt;</th><th scope=col>&lt;dbl&gt;</th></tr>\n",
       "</thead>\n",
       "<tbody>\n",
       "\t<tr><th scope=row>1</th><td> 9</td><td>8000</td><td>1</td><td>1</td><td>12.00000</td><td>1</td><td>1</td><td>1</td><td>2</td><td>7</td><td>1</td></tr>\n",
       "\t<tr><th scope=row>2</th><td>10</td><td>8000</td><td>2</td><td>1</td><td>12.83333</td><td>1</td><td>1</td><td>1</td><td>2</td><td>5</td><td>2</td></tr>\n",
       "\t<tr><th scope=row>3</th><td> 9</td><td>8000</td><td>4</td><td>1</td><td>12.58333</td><td>2</td><td>1</td><td>1</td><td>3</td><td>7</td><td>3</td></tr>\n",
       "\t<tr><th scope=row>4</th><td> 9</td><td>8000</td><td>3</td><td>2</td><td>12.00000</td><td>1</td><td>1</td><td>1</td><td>3</td><td>7</td><td>2</td></tr>\n",
       "\t<tr><th scope=row>5</th><td>10</td><td>8000</td><td>1</td><td>1</td><td>12.08333</td><td>1</td><td>1</td><td>1</td><td>2</td><td>1</td><td>4</td></tr>\n",
       "\t<tr><th scope=row>6</th><td> 9</td><td>8000</td><td>2</td><td>1</td><td>12.08333</td><td>2</td><td>1</td><td>1</td><td>2</td><td>7</td><td>3</td></tr>\n",
       "</tbody>\n",
       "</table>\n"
      ],
      "text/latex": [
       "A data.frame: 6 × 11\n",
       "\\begin{tabular}{r|lllllllllll}\n",
       "  & lifesat & countryno & fasholidays & health & age & sex & motherhome1 & fatherhome1 & famaffluence & friendhelp & schoolpressure\\\\\n",
       "  & <dbl> & <int> & <dbl> & <dbl> & <dbl> & <int> & <dbl> & <dbl> & <dbl> & <dbl> & <dbl>\\\\\n",
       "\\hline\n",
       "\t1 &  9 & 8000 & 1 & 1 & 12.00000 & 1 & 1 & 1 & 2 & 7 & 1\\\\\n",
       "\t2 & 10 & 8000 & 2 & 1 & 12.83333 & 1 & 1 & 1 & 2 & 5 & 2\\\\\n",
       "\t3 &  9 & 8000 & 4 & 1 & 12.58333 & 2 & 1 & 1 & 3 & 7 & 3\\\\\n",
       "\t4 &  9 & 8000 & 3 & 2 & 12.00000 & 1 & 1 & 1 & 3 & 7 & 2\\\\\n",
       "\t5 & 10 & 8000 & 1 & 1 & 12.08333 & 1 & 1 & 1 & 2 & 1 & 4\\\\\n",
       "\t6 &  9 & 8000 & 2 & 1 & 12.08333 & 2 & 1 & 1 & 2 & 7 & 3\\\\\n",
       "\\end{tabular}\n"
      ],
      "text/markdown": [
       "\n",
       "A data.frame: 6 × 11\n",
       "\n",
       "| <!--/--> | lifesat &lt;dbl&gt; | countryno &lt;int&gt; | fasholidays &lt;dbl&gt; | health &lt;dbl&gt; | age &lt;dbl&gt; | sex &lt;int&gt; | motherhome1 &lt;dbl&gt; | fatherhome1 &lt;dbl&gt; | famaffluence &lt;dbl&gt; | friendhelp &lt;dbl&gt; | schoolpressure &lt;dbl&gt; |\n",
       "|---|---|---|---|---|---|---|---|---|---|---|---|\n",
       "| 1 |  9 | 8000 | 1 | 1 | 12.00000 | 1 | 1 | 1 | 2 | 7 | 1 |\n",
       "| 2 | 10 | 8000 | 2 | 1 | 12.83333 | 1 | 1 | 1 | 2 | 5 | 2 |\n",
       "| 3 |  9 | 8000 | 4 | 1 | 12.58333 | 2 | 1 | 1 | 3 | 7 | 3 |\n",
       "| 4 |  9 | 8000 | 3 | 2 | 12.00000 | 1 | 1 | 1 | 3 | 7 | 2 |\n",
       "| 5 | 10 | 8000 | 1 | 1 | 12.08333 | 1 | 1 | 1 | 2 | 1 | 4 |\n",
       "| 6 |  9 | 8000 | 2 | 1 | 12.08333 | 2 | 1 | 1 | 2 | 7 | 3 |\n",
       "\n"
      ],
      "text/plain": [
       "  lifesat countryno fasholidays health age      sex motherhome1 fatherhome1\n",
       "1  9      8000      1           1      12.00000 1   1           1          \n",
       "2 10      8000      2           1      12.83333 1   1           1          \n",
       "3  9      8000      4           1      12.58333 2   1           1          \n",
       "4  9      8000      3           2      12.00000 1   1           1          \n",
       "5 10      8000      1           1      12.08333 1   1           1          \n",
       "6  9      8000      2           1      12.08333 2   1           1          \n",
       "  famaffluence friendhelp schoolpressure\n",
       "1 2            7          1             \n",
       "2 2            5          2             \n",
       "3 3            7          3             \n",
       "4 3            7          2             \n",
       "5 2            1          4             \n",
       "6 2            7          3             "
      ]
     },
     "metadata": {},
     "output_type": "display_data"
    },
    {
     "name": "stdout",
     "output_type": "stream",
     "text": [
      "[1] 240951\n"
     ]
    }
   ],
   "source": [
    "# Select specific columns by column names\n",
    "selected_data <- subset(data, select = c(\"lifesat\", \"countryno\", \"fasholidays\", \"health\", \"age\", \"sex\", \"motherhome1\", \"fatherhome1\", \"IRRELFAS_LMH\", \"friendhelp\", \"schoolpressure\"))\n",
    "#colnames(selected_data)[\"IRRELFAS_LMH\"] <- \"famaffluence\"\n",
    "names(selected_data)[names(selected_data) == \"IRRELFAS_LMH\"] <- \"famaffluence\"\n",
    "head(selected_data)\n",
    "\n",
    "# Print the number of rows\n",
    "num_rows <- nrow(selected_data)\n",
    "print(num_rows)"
   ]
  },
  {
   "cell_type": "code",
   "execution_count": 3,
   "id": "67654b0a",
   "metadata": {},
   "outputs": [],
   "source": [
    "# remove all rows that contain a missing value which are stored as an inf large #\n",
    "hbsc_data <- selected_data[!apply(selected_data > 840000, 1, any), ]\n",
    "\n",
    "# create indicators and transformations\n",
    "hbsc_data$fasholidays[hbsc_data$fasholidays == 1] <- 0\n",
    "hbsc_data$fasholidays[hbsc_data$fasholidays == 2] <- 1\n",
    "hbsc_data$fasholidays[hbsc_data$fasholidays == 3] <- 2\n",
    "hbsc_data$fasholidays[hbsc_data$fasholidays == 4] <- 3\n",
    "hbsc_data$lifesat <- hbsc_data$lifesat + 1\n",
    "hbsc_data$llifesat <- log(hbsc_data$lifesat)\n",
    "hbsc_data$fasholidays <- hbsc_data$fasholidays - 1\n",
    "hbsc_data$female_indicator <- hbsc_data$sex - 1\n",
    "hbsc_data$mhome_indicator <- hbsc_data$motherhome1 *-1 + 2\n",
    "hbsc_data$fhome_indicator <- hbsc_data$fatherhome1 *-1 + 2"
   ]
  },
  {
   "cell_type": "code",
   "execution_count": 4,
   "id": "d372fe44",
   "metadata": {},
   "outputs": [
    {
     "data": {
      "text/html": [
       "<table class=\"dataframe\">\n",
       "<caption>A data.frame: 6 × 23</caption>\n",
       "<thead>\n",
       "\t<tr><th></th><th scope=col>lifesat</th><th scope=col>countryno</th><th scope=col>fasholidays</th><th scope=col>age</th><th scope=col>sex</th><th scope=col>motherhome1</th><th scope=col>fatherhome1</th><th scope=col>friendhelp</th><th scope=col>llifesat</th><th scope=col>female_indicator</th><th scope=col>⋯</th><th scope=col>health2</th><th scope=col>health3</th><th scope=col>health4</th><th scope=col>famaffluence1</th><th scope=col>famaffluence2</th><th scope=col>famaffluence3</th><th scope=col>schoolpressure1</th><th scope=col>schoolpressure2</th><th scope=col>schoolpressure3</th><th scope=col>schoolpressure4</th></tr>\n",
       "\t<tr><th></th><th scope=col>&lt;dbl&gt;</th><th scope=col>&lt;int&gt;</th><th scope=col>&lt;dbl&gt;</th><th scope=col>&lt;dbl&gt;</th><th scope=col>&lt;int&gt;</th><th scope=col>&lt;dbl&gt;</th><th scope=col>&lt;dbl&gt;</th><th scope=col>&lt;dbl&gt;</th><th scope=col>&lt;dbl&gt;</th><th scope=col>&lt;dbl&gt;</th><th scope=col>⋯</th><th scope=col>&lt;dbl&gt;</th><th scope=col>&lt;dbl&gt;</th><th scope=col>&lt;dbl&gt;</th><th scope=col>&lt;dbl&gt;</th><th scope=col>&lt;dbl&gt;</th><th scope=col>&lt;dbl&gt;</th><th scope=col>&lt;dbl&gt;</th><th scope=col>&lt;dbl&gt;</th><th scope=col>&lt;dbl&gt;</th><th scope=col>&lt;dbl&gt;</th></tr>\n",
       "</thead>\n",
       "<tbody>\n",
       "\t<tr><th scope=row>1</th><td>10</td><td>8000</td><td>-1</td><td>12.00000</td><td>1</td><td>1</td><td>1</td><td>7</td><td>2.302585</td><td>0</td><td>⋯</td><td>0</td><td>0</td><td>0</td><td>0</td><td>1</td><td>0</td><td>1</td><td>0</td><td>0</td><td>0</td></tr>\n",
       "\t<tr><th scope=row>2</th><td>11</td><td>8000</td><td> 0</td><td>12.83333</td><td>1</td><td>1</td><td>1</td><td>5</td><td>2.397895</td><td>0</td><td>⋯</td><td>0</td><td>0</td><td>0</td><td>0</td><td>1</td><td>0</td><td>0</td><td>1</td><td>0</td><td>0</td></tr>\n",
       "\t<tr><th scope=row>3</th><td>10</td><td>8000</td><td> 2</td><td>12.58333</td><td>2</td><td>1</td><td>1</td><td>7</td><td>2.302585</td><td>1</td><td>⋯</td><td>0</td><td>0</td><td>0</td><td>0</td><td>0</td><td>1</td><td>0</td><td>0</td><td>1</td><td>0</td></tr>\n",
       "\t<tr><th scope=row>4</th><td>10</td><td>8000</td><td> 1</td><td>12.00000</td><td>1</td><td>1</td><td>1</td><td>7</td><td>2.302585</td><td>0</td><td>⋯</td><td>1</td><td>0</td><td>0</td><td>0</td><td>0</td><td>1</td><td>0</td><td>1</td><td>0</td><td>0</td></tr>\n",
       "\t<tr><th scope=row>5</th><td>11</td><td>8000</td><td>-1</td><td>12.08333</td><td>1</td><td>1</td><td>1</td><td>1</td><td>2.397895</td><td>0</td><td>⋯</td><td>0</td><td>0</td><td>0</td><td>0</td><td>1</td><td>0</td><td>0</td><td>0</td><td>0</td><td>1</td></tr>\n",
       "\t<tr><th scope=row>6</th><td>10</td><td>8000</td><td> 0</td><td>12.08333</td><td>2</td><td>1</td><td>1</td><td>7</td><td>2.302585</td><td>1</td><td>⋯</td><td>0</td><td>0</td><td>0</td><td>0</td><td>1</td><td>0</td><td>0</td><td>0</td><td>1</td><td>0</td></tr>\n",
       "</tbody>\n",
       "</table>\n"
      ],
      "text/latex": [
       "A data.frame: 6 × 23\n",
       "\\begin{tabular}{r|lllllllllllllllllllll}\n",
       "  & lifesat & countryno & fasholidays & age & sex & motherhome1 & fatherhome1 & friendhelp & llifesat & female\\_indicator & ⋯ & health2 & health3 & health4 & famaffluence1 & famaffluence2 & famaffluence3 & schoolpressure1 & schoolpressure2 & schoolpressure3 & schoolpressure4\\\\\n",
       "  & <dbl> & <int> & <dbl> & <dbl> & <int> & <dbl> & <dbl> & <dbl> & <dbl> & <dbl> & ⋯ & <dbl> & <dbl> & <dbl> & <dbl> & <dbl> & <dbl> & <dbl> & <dbl> & <dbl> & <dbl>\\\\\n",
       "\\hline\n",
       "\t1 & 10 & 8000 & -1 & 12.00000 & 1 & 1 & 1 & 7 & 2.302585 & 0 & ⋯ & 0 & 0 & 0 & 0 & 1 & 0 & 1 & 0 & 0 & 0\\\\\n",
       "\t2 & 11 & 8000 &  0 & 12.83333 & 1 & 1 & 1 & 5 & 2.397895 & 0 & ⋯ & 0 & 0 & 0 & 0 & 1 & 0 & 0 & 1 & 0 & 0\\\\\n",
       "\t3 & 10 & 8000 &  2 & 12.58333 & 2 & 1 & 1 & 7 & 2.302585 & 1 & ⋯ & 0 & 0 & 0 & 0 & 0 & 1 & 0 & 0 & 1 & 0\\\\\n",
       "\t4 & 10 & 8000 &  1 & 12.00000 & 1 & 1 & 1 & 7 & 2.302585 & 0 & ⋯ & 1 & 0 & 0 & 0 & 0 & 1 & 0 & 1 & 0 & 0\\\\\n",
       "\t5 & 11 & 8000 & -1 & 12.08333 & 1 & 1 & 1 & 1 & 2.397895 & 0 & ⋯ & 0 & 0 & 0 & 0 & 1 & 0 & 0 & 0 & 0 & 1\\\\\n",
       "\t6 & 10 & 8000 &  0 & 12.08333 & 2 & 1 & 1 & 7 & 2.302585 & 1 & ⋯ & 0 & 0 & 0 & 0 & 1 & 0 & 0 & 0 & 1 & 0\\\\\n",
       "\\end{tabular}\n"
      ],
      "text/markdown": [
       "\n",
       "A data.frame: 6 × 23\n",
       "\n",
       "| <!--/--> | lifesat &lt;dbl&gt; | countryno &lt;int&gt; | fasholidays &lt;dbl&gt; | age &lt;dbl&gt; | sex &lt;int&gt; | motherhome1 &lt;dbl&gt; | fatherhome1 &lt;dbl&gt; | friendhelp &lt;dbl&gt; | llifesat &lt;dbl&gt; | female_indicator &lt;dbl&gt; | ⋯ ⋯ | health2 &lt;dbl&gt; | health3 &lt;dbl&gt; | health4 &lt;dbl&gt; | famaffluence1 &lt;dbl&gt; | famaffluence2 &lt;dbl&gt; | famaffluence3 &lt;dbl&gt; | schoolpressure1 &lt;dbl&gt; | schoolpressure2 &lt;dbl&gt; | schoolpressure3 &lt;dbl&gt; | schoolpressure4 &lt;dbl&gt; |\n",
       "|---|---|---|---|---|---|---|---|---|---|---|---|---|---|---|---|---|---|---|---|---|---|\n",
       "| 1 | 10 | 8000 | -1 | 12.00000 | 1 | 1 | 1 | 7 | 2.302585 | 0 | ⋯ | 0 | 0 | 0 | 0 | 1 | 0 | 1 | 0 | 0 | 0 |\n",
       "| 2 | 11 | 8000 |  0 | 12.83333 | 1 | 1 | 1 | 5 | 2.397895 | 0 | ⋯ | 0 | 0 | 0 | 0 | 1 | 0 | 0 | 1 | 0 | 0 |\n",
       "| 3 | 10 | 8000 |  2 | 12.58333 | 2 | 1 | 1 | 7 | 2.302585 | 1 | ⋯ | 0 | 0 | 0 | 0 | 0 | 1 | 0 | 0 | 1 | 0 |\n",
       "| 4 | 10 | 8000 |  1 | 12.00000 | 1 | 1 | 1 | 7 | 2.302585 | 0 | ⋯ | 1 | 0 | 0 | 0 | 0 | 1 | 0 | 1 | 0 | 0 |\n",
       "| 5 | 11 | 8000 | -1 | 12.08333 | 1 | 1 | 1 | 1 | 2.397895 | 0 | ⋯ | 0 | 0 | 0 | 0 | 1 | 0 | 0 | 0 | 0 | 1 |\n",
       "| 6 | 10 | 8000 |  0 | 12.08333 | 2 | 1 | 1 | 7 | 2.302585 | 1 | ⋯ | 0 | 0 | 0 | 0 | 1 | 0 | 0 | 0 | 1 | 0 |\n",
       "\n"
      ],
      "text/plain": [
       "  lifesat countryno fasholidays age      sex motherhome1 fatherhome1 friendhelp\n",
       "1 10      8000      -1          12.00000 1   1           1           7         \n",
       "2 11      8000       0          12.83333 1   1           1           5         \n",
       "3 10      8000       2          12.58333 2   1           1           7         \n",
       "4 10      8000       1          12.00000 1   1           1           7         \n",
       "5 11      8000      -1          12.08333 1   1           1           1         \n",
       "6 10      8000       0          12.08333 2   1           1           7         \n",
       "  llifesat female_indicator ⋯ health2 health3 health4 famaffluence1\n",
       "1 2.302585 0                ⋯ 0       0       0       0            \n",
       "2 2.397895 0                ⋯ 0       0       0       0            \n",
       "3 2.302585 1                ⋯ 0       0       0       0            \n",
       "4 2.302585 0                ⋯ 1       0       0       0            \n",
       "5 2.397895 0                ⋯ 0       0       0       0            \n",
       "6 2.302585 1                ⋯ 0       0       0       0            \n",
       "  famaffluence2 famaffluence3 schoolpressure1 schoolpressure2 schoolpressure3\n",
       "1 1             0             1               0               0              \n",
       "2 1             0             0               1               0              \n",
       "3 0             1             0               0               1              \n",
       "4 0             1             0               1               0              \n",
       "5 1             0             0               0               0              \n",
       "6 1             0             0               0               1              \n",
       "  schoolpressure4\n",
       "1 0              \n",
       "2 0              \n",
       "3 0              \n",
       "4 0              \n",
       "5 1              \n",
       "6 0              "
      ]
     },
     "metadata": {},
     "output_type": "display_data"
    }
   ],
   "source": [
    "# One-hot encode\n",
    "#encoded_data <- cbind(hbsc_data, model.matrix(~ factor(fasholidays) - 1, data = hbsc_data))\n",
    "encoded_data <- cbind(hbsc_data, model.matrix(~ factor(health) - 1, data = hbsc_data))\n",
    "encoded_data <- cbind(encoded_data, model.matrix(~ factor(famaffluence) - 1, data = encoded_data))\n",
    "encoded_data <- cbind(encoded_data, model.matrix(~ factor(schoolpressure) - 1, data = encoded_data))\n",
    "\n",
    "# Remove the original variable\n",
    "#encoded_data <- encoded_data[, !(names(encoded_data) %in% c(\"fasholidays\"))]\n",
    "encoded_data <- encoded_data[, !(names(encoded_data) %in% c(\"health\"))]\n",
    "encoded_data <- encoded_data[, !(names(encoded_data) %in% c(\"famaffluence\"))]\n",
    "encoded_data <- encoded_data[, !(names(encoded_data) %in% c(\"schoolpressure\"))]\n",
    "\n",
    "# Rename the dummy variables\n",
    "#colnames(encoded_data) <- gsub(\"factor\\\\(fasholidays\\\\)\", \"fasholidays\", colnames(encoded_data))\n",
    "colnames(encoded_data) <- gsub(\"factor\\\\(health\\\\)\", \"health\", colnames(encoded_data))\n",
    "colnames(encoded_data) <- gsub(\"factor\\\\(famaffluence\\\\)\", \"famaffluence\", colnames(encoded_data))\n",
    "colnames(encoded_data) <- gsub(\"factor\\\\(schoolpressure\\\\)\", \"schoolpressure\", colnames(encoded_data))\n",
    "\n",
    "# View the resulting data frame\n",
    "head(encoded_data)"
   ]
  },
  {
   "cell_type": "code",
   "execution_count": 5,
   "id": "d282d0d5",
   "metadata": {},
   "outputs": [
    {
     "data": {
      "text/plain": [
       "\n",
       "Call:\n",
       "lm(formula = llifesat ~ fasholidays + female_indicator + mhome_indicator + \n",
       "    fhome_indicator + health1 + health2 + health4 + famaffluence1 + \n",
       "    famaffluence3 + friendhelp + schoolpressure1 + schoolpressure3 + \n",
       "    schoolpressure4, data = encoded_data)\n",
       "\n",
       "Residuals:\n",
       "     Min       1Q   Median       3Q      Max \n",
       "-2.34750 -0.08429  0.04628  0.14656  0.95484 \n",
       "\n",
       "Coefficients:\n",
       "                   Estimate Std. Error t value Pr(>|t|)    \n",
       "(Intercept)       1.8599223  0.0032861 565.989  < 2e-16 ***\n",
       "fasholidays       0.0116298  0.0006062  19.183  < 2e-16 ***\n",
       "female_indicator -0.0195782  0.0011695 -16.740  < 2e-16 ***\n",
       "mhome_indicator   0.0445063  0.0024079  18.483  < 2e-16 ***\n",
       "fhome_indicator   0.0422526  0.0013465  31.378  < 2e-16 ***\n",
       "health1           0.2290488  0.0019431 117.878  < 2e-16 ***\n",
       "health2           0.1412988  0.0018467  76.514  < 2e-16 ***\n",
       "health4          -0.2778904  0.0049659 -55.960  < 2e-16 ***\n",
       "famaffluence1    -0.0332048  0.0015860 -20.936  < 2e-16 ***\n",
       "famaffluence3     0.0125751  0.0017008   7.393 1.44e-13 ***\n",
       "friendhelp        0.0160283  0.0003067  52.261  < 2e-16 ***\n",
       "schoolpressure1   0.0237418  0.0015482  15.335  < 2e-16 ***\n",
       "schoolpressure3  -0.0400002  0.0014916 -26.816  < 2e-16 ***\n",
       "schoolpressure4  -0.1101748  0.0018422 -59.805  < 2e-16 ***\n",
       "---\n",
       "Signif. codes:  0 ‘***’ 0.001 ‘**’ 0.01 ‘*’ 0.05 ‘.’ 0.1 ‘ ’ 1\n",
       "\n",
       "Residual standard error: 0.265 on 210615 degrees of freedom\n",
       "Multiple R-squared:  0.1744,\tAdjusted R-squared:  0.1744 \n",
       "F-statistic:  3423 on 13 and 210615 DF,  p-value: < 2.2e-16\n"
      ]
     },
     "metadata": {},
     "output_type": "display_data"
    }
   ],
   "source": [
    "model <- lm(llifesat ~ fasholidays+female_indicator+mhome_indicator+fhome_indicator+health1+health2+health4+famaffluence1+famaffluence3 + friendhelp + schoolpressure1 + schoolpressure3 + schoolpressure4, data = encoded_data)\n",
    "\n",
    "# Print a summary of the regression results\n",
    "summary(model)"
   ]
  },
  {
   "cell_type": "code",
   "execution_count": null,
   "id": "b41dae40",
   "metadata": {},
   "outputs": [],
   "source": []
  },
  {
   "cell_type": "code",
   "execution_count": null,
   "id": "dbce0916",
   "metadata": {},
   "outputs": [],
   "source": []
  },
  {
   "cell_type": "code",
   "execution_count": null,
   "id": "0a7f7e80",
   "metadata": {},
   "outputs": [],
   "source": []
  },
  {
   "cell_type": "code",
   "execution_count": null,
   "id": "37dad65c",
   "metadata": {},
   "outputs": [],
   "source": []
  }
 ],
 "metadata": {
  "kernelspec": {
   "display_name": "R",
   "language": "R",
   "name": "ir"
  },
  "language_info": {
   "codemirror_mode": "r",
   "file_extension": ".r",
   "mimetype": "text/x-r-source",
   "name": "R",
   "pygments_lexer": "r",
   "version": "4.3.1"
  }
 },
 "nbformat": 4,
 "nbformat_minor": 5
}
